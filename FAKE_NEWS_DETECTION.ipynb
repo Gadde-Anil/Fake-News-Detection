{
  "nbformat": 4,
  "nbformat_minor": 0,
  "metadata": {
    "colab": {
      "provenance": [],
      "authorship_tag": "ABX9TyO+5sVKeZUlYZqVoXrF2hWk",
      "include_colab_link": true
    },
    "kernelspec": {
      "name": "python3",
      "display_name": "Python 3"
    },
    "language_info": {
      "name": "python"
    }
  },
  "cells": [
    {
      "cell_type": "markdown",
      "metadata": {
        "id": "view-in-github",
        "colab_type": "text"
      },
      "source": [
        "<a href=\"https://colab.research.google.com/github/Gadde-Anil/Fake-News-Detection/blob/main/FAKE_NEWS_DETECTION.ipynb\" target=\"_parent\"><img src=\"https://colab.research.google.com/assets/colab-badge.svg\" alt=\"Open In Colab\"/></a>"
      ]
    },
    {
      "cell_type": "code",
      "execution_count": null,
      "metadata": {
        "id": "KjI4Okh_0tsy"
      },
      "outputs": [],
      "source": [
        "import numpy as np\n",
        "import pandas as pd\n",
        "import re\n",
        "from nltk.corpus import stopwords\n",
        "from nltk.stem.porter import PorterStemmer\n",
        "from sklearn.feature_extraction.text import TfidfVectorizer\n",
        "from sklearn.model_selection import train_test_split\n",
        "from sklearn.linear_model import LogisticRegression\n",
        "from sklearn.metrics import accuracy_score"
      ]
    },
    {
      "cell_type": "markdown",
      "source": [
        "To download all the stopwords present in natural languaging tool kit(nltk)."
      ],
      "metadata": {
        "id": "3nLpbvNEIUW3"
      }
    },
    {
      "cell_type": "code",
      "source": [
        "import nltk\n",
        "nltk.download('stopwords')"
      ],
      "metadata": {
        "id": "pi_KIHjd19xx",
        "colab": {
          "base_uri": "https://localhost:8080/"
        },
        "outputId": "e9d1c4da-1065-49ca-a7b0-d9b34a026250"
      },
      "execution_count": null,
      "outputs": [
        {
          "output_type": "stream",
          "name": "stderr",
          "text": [
            "[nltk_data] Downloading package stopwords to /root/nltk_data...\n",
            "[nltk_data]   Package stopwords is already up-to-date!\n"
          ]
        },
        {
          "output_type": "execute_result",
          "data": {
            "text/plain": [
              "True"
            ]
          },
          "metadata": {},
          "execution_count": 12
        }
      ]
    },
    {
      "cell_type": "code",
      "source": [
        "print(stopwords.words('english'))"
      ],
      "metadata": {
        "id": "uVmGlklt3hHh",
        "colab": {
          "base_uri": "https://localhost:8080/"
        },
        "outputId": "28896add-b5ac-464b-b230-18b36a0c1af0"
      },
      "execution_count": null,
      "outputs": [
        {
          "output_type": "stream",
          "name": "stdout",
          "text": [
            "['i', 'me', 'my', 'myself', 'we', 'our', 'ours', 'ourselves', 'you', \"you're\", \"you've\", \"you'll\", \"you'd\", 'your', 'yours', 'yourself', 'yourselves', 'he', 'him', 'his', 'himself', 'she', \"she's\", 'her', 'hers', 'herself', 'it', \"it's\", 'its', 'itself', 'they', 'them', 'their', 'theirs', 'themselves', 'what', 'which', 'who', 'whom', 'this', 'that', \"that'll\", 'these', 'those', 'am', 'is', 'are', 'was', 'were', 'be', 'been', 'being', 'have', 'has', 'had', 'having', 'do', 'does', 'did', 'doing', 'a', 'an', 'the', 'and', 'but', 'if', 'or', 'because', 'as', 'until', 'while', 'of', 'at', 'by', 'for', 'with', 'about', 'against', 'between', 'into', 'through', 'during', 'before', 'after', 'above', 'below', 'to', 'from', 'up', 'down', 'in', 'out', 'on', 'off', 'over', 'under', 'again', 'further', 'then', 'once', 'here', 'there', 'when', 'where', 'why', 'how', 'all', 'any', 'both', 'each', 'few', 'more', 'most', 'other', 'some', 'such', 'no', 'nor', 'not', 'only', 'own', 'same', 'so', 'than', 'too', 'very', 's', 't', 'can', 'will', 'just', 'don', \"don't\", 'should', \"should've\", 'now', 'd', 'll', 'm', 'o', 're', 've', 'y', 'ain', 'aren', \"aren't\", 'couldn', \"couldn't\", 'didn', \"didn't\", 'doesn', \"doesn't\", 'hadn', \"hadn't\", 'hasn', \"hasn't\", 'haven', \"haven't\", 'isn', \"isn't\", 'ma', 'mightn', \"mightn't\", 'mustn', \"mustn't\", 'needn', \"needn't\", 'shan', \"shan't\", 'shouldn', \"shouldn't\", 'wasn', \"wasn't\", 'weren', \"weren't\", 'won', \"won't\", 'wouldn', \"wouldn't\"]\n"
          ]
        }
      ]
    },
    {
      "cell_type": "markdown",
      "source": [],
      "metadata": {
        "id": "vUuesbxWImGS"
      }
    },
    {
      "cell_type": "code",
      "source": [
        "news_dataset=pd.read_csv('/content/train[1].csv')"
      ],
      "metadata": {
        "id": "Kq-IjW_53jvc"
      },
      "execution_count": null,
      "outputs": []
    },
    {
      "cell_type": "markdown",
      "source": [
        "It will give the number of rows and columns information"
      ],
      "metadata": {
        "id": "cesXCJu1J8LD"
      }
    },
    {
      "cell_type": "code",
      "source": [
        "news_dataset.shape"
      ],
      "metadata": {
        "id": "JnCXKTPU3jsJ",
        "colab": {
          "base_uri": "https://localhost:8080/"
        },
        "outputId": "c4ca9da2-d945-4ffb-d8b0-31cc8addbf66"
      },
      "execution_count": null,
      "outputs": [
        {
          "output_type": "execute_result",
          "data": {
            "text/plain": [
              "(21017, 5)"
            ]
          },
          "metadata": {},
          "execution_count": 15
        }
      ]
    },
    {
      "cell_type": "code",
      "source": [
        "news_dataset.head()"
      ],
      "metadata": {
        "id": "ZJZlhsKm3jqX",
        "colab": {
          "base_uri": "https://localhost:8080/",
          "height": 320
        },
        "outputId": "ec4ff764-ba42-4d3c-98bc-cb27174db2b3"
      },
      "execution_count": null,
      "outputs": [
        {
          "output_type": "execute_result",
          "data": {
            "text/plain": [
              "   id                                              title              author  \\\n",
              "0   0  House Dem Aide: We Didn’t Even See Comey’s Let...       Darrell Lucus   \n",
              "1   1  FLYNN: Hillary Clinton, Big Woman on Campus - ...     Daniel J. Flynn   \n",
              "2   2                  Why the Truth Might Get You Fired  Consortiumnews.com   \n",
              "3   3  15 Civilians Killed In Single US Airstrike Hav...     Jessica Purkiss   \n",
              "4   4  Iranian woman jailed for fictional unpublished...      Howard Portnoy   \n",
              "\n",
              "                                                text  label  \n",
              "0  House Dem Aide: We Didn’t Even See Comey’s Let...      1  \n",
              "1  Ever get the feeling your life circles the rou...      0  \n",
              "2  Why the Truth Might Get You Fired October 29, ...      1  \n",
              "3  Videos 15 Civilians Killed In Single US Airstr...      1  \n",
              "4  Print \\nAn Iranian woman has been sentenced to...      1  "
            ],
            "text/html": [
              "\n",
              "  <div id=\"df-66befda9-bc88-4996-9339-5aaae06d6d06\">\n",
              "    <div class=\"colab-df-container\">\n",
              "      <div>\n",
              "<style scoped>\n",
              "    .dataframe tbody tr th:only-of-type {\n",
              "        vertical-align: middle;\n",
              "    }\n",
              "\n",
              "    .dataframe tbody tr th {\n",
              "        vertical-align: top;\n",
              "    }\n",
              "\n",
              "    .dataframe thead th {\n",
              "        text-align: right;\n",
              "    }\n",
              "</style>\n",
              "<table border=\"1\" class=\"dataframe\">\n",
              "  <thead>\n",
              "    <tr style=\"text-align: right;\">\n",
              "      <th></th>\n",
              "      <th>id</th>\n",
              "      <th>title</th>\n",
              "      <th>author</th>\n",
              "      <th>text</th>\n",
              "      <th>label</th>\n",
              "    </tr>\n",
              "  </thead>\n",
              "  <tbody>\n",
              "    <tr>\n",
              "      <th>0</th>\n",
              "      <td>0</td>\n",
              "      <td>House Dem Aide: We Didn’t Even See Comey’s Let...</td>\n",
              "      <td>Darrell Lucus</td>\n",
              "      <td>House Dem Aide: We Didn’t Even See Comey’s Let...</td>\n",
              "      <td>1</td>\n",
              "    </tr>\n",
              "    <tr>\n",
              "      <th>1</th>\n",
              "      <td>1</td>\n",
              "      <td>FLYNN: Hillary Clinton, Big Woman on Campus - ...</td>\n",
              "      <td>Daniel J. Flynn</td>\n",
              "      <td>Ever get the feeling your life circles the rou...</td>\n",
              "      <td>0</td>\n",
              "    </tr>\n",
              "    <tr>\n",
              "      <th>2</th>\n",
              "      <td>2</td>\n",
              "      <td>Why the Truth Might Get You Fired</td>\n",
              "      <td>Consortiumnews.com</td>\n",
              "      <td>Why the Truth Might Get You Fired October 29, ...</td>\n",
              "      <td>1</td>\n",
              "    </tr>\n",
              "    <tr>\n",
              "      <th>3</th>\n",
              "      <td>3</td>\n",
              "      <td>15 Civilians Killed In Single US Airstrike Hav...</td>\n",
              "      <td>Jessica Purkiss</td>\n",
              "      <td>Videos 15 Civilians Killed In Single US Airstr...</td>\n",
              "      <td>1</td>\n",
              "    </tr>\n",
              "    <tr>\n",
              "      <th>4</th>\n",
              "      <td>4</td>\n",
              "      <td>Iranian woman jailed for fictional unpublished...</td>\n",
              "      <td>Howard Portnoy</td>\n",
              "      <td>Print \\nAn Iranian woman has been sentenced to...</td>\n",
              "      <td>1</td>\n",
              "    </tr>\n",
              "  </tbody>\n",
              "</table>\n",
              "</div>\n",
              "      <button class=\"colab-df-convert\" onclick=\"convertToInteractive('df-66befda9-bc88-4996-9339-5aaae06d6d06')\"\n",
              "              title=\"Convert this dataframe to an interactive table.\"\n",
              "              style=\"display:none;\">\n",
              "        \n",
              "  <svg xmlns=\"http://www.w3.org/2000/svg\" height=\"24px\"viewBox=\"0 0 24 24\"\n",
              "       width=\"24px\">\n",
              "    <path d=\"M0 0h24v24H0V0z\" fill=\"none\"/>\n",
              "    <path d=\"M18.56 5.44l.94 2.06.94-2.06 2.06-.94-2.06-.94-.94-2.06-.94 2.06-2.06.94zm-11 1L8.5 8.5l.94-2.06 2.06-.94-2.06-.94L8.5 2.5l-.94 2.06-2.06.94zm10 10l.94 2.06.94-2.06 2.06-.94-2.06-.94-.94-2.06-.94 2.06-2.06.94z\"/><path d=\"M17.41 7.96l-1.37-1.37c-.4-.4-.92-.59-1.43-.59-.52 0-1.04.2-1.43.59L10.3 9.45l-7.72 7.72c-.78.78-.78 2.05 0 2.83L4 21.41c.39.39.9.59 1.41.59.51 0 1.02-.2 1.41-.59l7.78-7.78 2.81-2.81c.8-.78.8-2.07 0-2.86zM5.41 20L4 18.59l7.72-7.72 1.47 1.35L5.41 20z\"/>\n",
              "  </svg>\n",
              "      </button>\n",
              "      \n",
              "  <style>\n",
              "    .colab-df-container {\n",
              "      display:flex;\n",
              "      flex-wrap:wrap;\n",
              "      gap: 12px;\n",
              "    }\n",
              "\n",
              "    .colab-df-convert {\n",
              "      background-color: #E8F0FE;\n",
              "      border: none;\n",
              "      border-radius: 50%;\n",
              "      cursor: pointer;\n",
              "      display: none;\n",
              "      fill: #1967D2;\n",
              "      height: 32px;\n",
              "      padding: 0 0 0 0;\n",
              "      width: 32px;\n",
              "    }\n",
              "\n",
              "    .colab-df-convert:hover {\n",
              "      background-color: #E2EBFA;\n",
              "      box-shadow: 0px 1px 2px rgba(60, 64, 67, 0.3), 0px 1px 3px 1px rgba(60, 64, 67, 0.15);\n",
              "      fill: #174EA6;\n",
              "    }\n",
              "\n",
              "    [theme=dark] .colab-df-convert {\n",
              "      background-color: #3B4455;\n",
              "      fill: #D2E3FC;\n",
              "    }\n",
              "\n",
              "    [theme=dark] .colab-df-convert:hover {\n",
              "      background-color: #434B5C;\n",
              "      box-shadow: 0px 1px 3px 1px rgba(0, 0, 0, 0.15);\n",
              "      filter: drop-shadow(0px 1px 2px rgba(0, 0, 0, 0.3));\n",
              "      fill: #FFFFFF;\n",
              "    }\n",
              "  </style>\n",
              "\n",
              "      <script>\n",
              "        const buttonEl =\n",
              "          document.querySelector('#df-66befda9-bc88-4996-9339-5aaae06d6d06 button.colab-df-convert');\n",
              "        buttonEl.style.display =\n",
              "          google.colab.kernel.accessAllowed ? 'block' : 'none';\n",
              "\n",
              "        async function convertToInteractive(key) {\n",
              "          const element = document.querySelector('#df-66befda9-bc88-4996-9339-5aaae06d6d06');\n",
              "          const dataTable =\n",
              "            await google.colab.kernel.invokeFunction('convertToInteractive',\n",
              "                                                     [key], {});\n",
              "          if (!dataTable) return;\n",
              "\n",
              "          const docLinkHtml = 'Like what you see? Visit the ' +\n",
              "            '<a target=\"_blank\" href=https://colab.research.google.com/notebooks/data_table.ipynb>data table notebook</a>'\n",
              "            + ' to learn more about interactive tables.';\n",
              "          element.innerHTML = '';\n",
              "          dataTable['output_type'] = 'display_data';\n",
              "          await google.colab.output.renderOutput(dataTable, element);\n",
              "          const docLink = document.createElement('div');\n",
              "          docLink.innerHTML = docLinkHtml;\n",
              "          element.appendChild(docLink);\n",
              "        }\n",
              "      </script>\n",
              "    </div>\n",
              "  </div>\n",
              "  "
            ]
          },
          "metadata": {},
          "execution_count": 16
        }
      ]
    },
    {
      "cell_type": "markdown",
      "source": [
        "It will give information about empty spaces or null values in the dataset."
      ],
      "metadata": {
        "id": "LAD6Y0XwKGKj"
      }
    },
    {
      "cell_type": "code",
      "source": [
        "news_dataset.isnull().sum()"
      ],
      "metadata": {
        "id": "EspZ4-dQ3jol",
        "colab": {
          "base_uri": "https://localhost:8080/"
        },
        "outputId": "49ea6792-4e13-4638-bf7e-60df39ca3823"
      },
      "execution_count": null,
      "outputs": [
        {
          "output_type": "execute_result",
          "data": {
            "text/plain": [
              "id           0\n",
              "title      564\n",
              "author    1967\n",
              "text        39\n",
              "label        0\n",
              "dtype: int64"
            ]
          },
          "metadata": {},
          "execution_count": 17
        }
      ]
    },
    {
      "cell_type": "code",
      "source": [
        "news_datase=news_dataset.fillna('  ')"
      ],
      "metadata": {
        "id": "Zw7x5V7o3jmS"
      },
      "execution_count": null,
      "outputs": []
    },
    {
      "cell_type": "code",
      "source": [
        "news_dataset['content']=news_dataset['author']+' '+news_dataset['title']"
      ],
      "metadata": {
        "id": "XekVEdrc3jkF"
      },
      "execution_count": null,
      "outputs": []
    },
    {
      "cell_type": "code",
      "source": [
        "print(news_dataset['content'])"
      ],
      "metadata": {
        "id": "J7moiNoH3jiE",
        "colab": {
          "base_uri": "https://localhost:8080/"
        },
        "outputId": "b61260d5-7747-4e7b-b5f2-6b93ea42ac46"
      },
      "execution_count": null,
      "outputs": [
        {
          "output_type": "stream",
          "name": "stdout",
          "text": [
            "0        Darrell Lucus House Dem Aide: We Didn’t Even S...\n",
            "1        Daniel J. Flynn FLYNN: Hillary Clinton, Big Wo...\n",
            "2        Consortiumnews.com Why the Truth Might Get You...\n",
            "3        Jessica Purkiss 15 Civilians Killed In Single ...\n",
            "4        Howard Portnoy Iranian woman jailed for fictio...\n",
            "                               ...                        \n",
            "21012    Jerome Hudson Rapper T.I.: Trump a ’Poster Chi...\n",
            "21013    Benjamin Hoffman N.F.L. Playoffs: Schedule, Ma...\n",
            "21014    Michael J. de la Merced and Rachel Abrams Macy...\n",
            "21015    Alex Ansary NATO, Russia To Hold Parallel Exer...\n",
            "21016              David Swanson What Keeps the F-35 Alive\n",
            "Name: content, Length: 21017, dtype: object\n"
          ]
        }
      ]
    },
    {
      "cell_type": "code",
      "source": [
        "x=news_dataset.drop(columns='label',axis=1)\n",
        "y=news_dataset['label']"
      ],
      "metadata": {
        "id": "0CnMcH-m3jgI"
      },
      "execution_count": null,
      "outputs": []
    },
    {
      "cell_type": "code",
      "source": [
        "print(x)\n",
        "print(y)"
      ],
      "metadata": {
        "id": "LMChtWQg3jeD",
        "colab": {
          "base_uri": "https://localhost:8080/"
        },
        "outputId": "bb319180-e228-4392-cf7f-4eb8c58bff96"
      },
      "execution_count": null,
      "outputs": [
        {
          "output_type": "stream",
          "name": "stdout",
          "text": [
            "          id                                              title  \\\n",
            "0          0  House Dem Aide: We Didn’t Even See Comey’s Let...   \n",
            "1          1  FLYNN: Hillary Clinton, Big Woman on Campus - ...   \n",
            "2          2                  Why the Truth Might Get You Fired   \n",
            "3          3  15 Civilians Killed In Single US Airstrike Hav...   \n",
            "4          4  Iranian woman jailed for fictional unpublished...   \n",
            "...      ...                                                ...   \n",
            "21012  20795  Rapper T.I.: Trump a ’Poster Child For White S...   \n",
            "21013  20796  N.F.L. Playoffs: Schedule, Matchups and Odds -...   \n",
            "21014  20797  Macy’s Is Said to Receive Takeover Approach by...   \n",
            "21015  20798  NATO, Russia To Hold Parallel Exercises In Bal...   \n",
            "21016  20799                          What Keeps the F-35 Alive   \n",
            "\n",
            "                                          author  \\\n",
            "0                                  Darrell Lucus   \n",
            "1                                Daniel J. Flynn   \n",
            "2                             Consortiumnews.com   \n",
            "3                                Jessica Purkiss   \n",
            "4                                 Howard Portnoy   \n",
            "...                                          ...   \n",
            "21012                              Jerome Hudson   \n",
            "21013                           Benjamin Hoffman   \n",
            "21014  Michael J. de la Merced and Rachel Abrams   \n",
            "21015                                Alex Ansary   \n",
            "21016                              David Swanson   \n",
            "\n",
            "                                                    text  \\\n",
            "0      House Dem Aide: We Didn’t Even See Comey’s Let...   \n",
            "1      Ever get the feeling your life circles the rou...   \n",
            "2      Why the Truth Might Get You Fired October 29, ...   \n",
            "3      Videos 15 Civilians Killed In Single US Airstr...   \n",
            "4      Print \\nAn Iranian woman has been sentenced to...   \n",
            "...                                                  ...   \n",
            "21012  Rapper T. I. unloaded on black celebrities who...   \n",
            "21013  When the Green Bay Packers lost to the Washing...   \n",
            "21014  The Macy’s of today grew from the union of sev...   \n",
            "21015  NATO, Russia To Hold Parallel Exercises In Bal...   \n",
            "21016    David Swanson is an author, activist, journa...   \n",
            "\n",
            "                                                 content  \n",
            "0      Darrell Lucus House Dem Aide: We Didn’t Even S...  \n",
            "1      Daniel J. Flynn FLYNN: Hillary Clinton, Big Wo...  \n",
            "2      Consortiumnews.com Why the Truth Might Get You...  \n",
            "3      Jessica Purkiss 15 Civilians Killed In Single ...  \n",
            "4      Howard Portnoy Iranian woman jailed for fictio...  \n",
            "...                                                  ...  \n",
            "21012  Jerome Hudson Rapper T.I.: Trump a ’Poster Chi...  \n",
            "21013  Benjamin Hoffman N.F.L. Playoffs: Schedule, Ma...  \n",
            "21014  Michael J. de la Merced and Rachel Abrams Macy...  \n",
            "21015  Alex Ansary NATO, Russia To Hold Parallel Exer...  \n",
            "21016            David Swanson What Keeps the F-35 Alive  \n",
            "\n",
            "[21017 rows x 5 columns]\n",
            "0        1\n",
            "1        0\n",
            "2        1\n",
            "3        1\n",
            "4        1\n",
            "        ..\n",
            "21012    0\n",
            "21013    0\n",
            "21014    0\n",
            "21015    1\n",
            "21016    1\n",
            "Name: label, Length: 21017, dtype: int64\n"
          ]
        }
      ]
    },
    {
      "cell_type": "code",
      "source": [
        "port_stem=PorterStemmer()"
      ],
      "metadata": {
        "id": "gpxkXLHa3jb4"
      },
      "execution_count": null,
      "outputs": []
    },
    {
      "cell_type": "code",
      "source": [
        "def stemming(content):\n",
        "    stemmed_content = re.sub('[^a-zA-Z]',' ',content)\n",
        "    stemmed_content = stemmed_content.lower()\n",
        "    stemmed_content =stemmed_content.split()\n",
        "    stemmed_content =[port_stem.stem(word) for word in  stemmed_content if not word in stopwords.words('english')]\n",
        "    stemmed_content =' '.join(stemmed_content)\n",
        "    return  stemmed_content"
      ],
      "metadata": {
        "id": "1QjJzvBa3jaE"
      },
      "execution_count": null,
      "outputs": []
    },
    {
      "cell_type": "code",
      "source": [
        "print(news_dataset['content'])"
      ],
      "metadata": {
        "id": "1c1mJMTy8gkX",
        "colab": {
          "base_uri": "https://localhost:8080/"
        },
        "outputId": "17dfe0e4-cbb5-43de-a385-4a7231c4202d"
      },
      "execution_count": null,
      "outputs": [
        {
          "output_type": "stream",
          "name": "stdout",
          "text": [
            "0        Darrell Lucus House Dem Aide: We Didn’t Even S...\n",
            "1        Daniel J. Flynn FLYNN: Hillary Clinton, Big Wo...\n",
            "2        Consortiumnews.com Why the Truth Might Get You...\n",
            "3        Jessica Purkiss 15 Civilians Killed In Single ...\n",
            "4        Howard Portnoy Iranian woman jailed for fictio...\n",
            "                               ...                        \n",
            "21012    Jerome Hudson Rapper T.I.: Trump a ’Poster Chi...\n",
            "21013    Benjamin Hoffman N.F.L. Playoffs: Schedule, Ma...\n",
            "21014    Michael J. de la Merced and Rachel Abrams Macy...\n",
            "21015    Alex Ansary NATO, Russia To Hold Parallel Exer...\n",
            "21016              David Swanson What Keeps the F-35 Alive\n",
            "Name: content, Length: 21017, dtype: object\n"
          ]
        }
      ]
    },
    {
      "cell_type": "code",
      "source": [
        "X=news_dataset['content'].values\n",
        "Y=news_dataset['label'].values"
      ],
      "metadata": {
        "id": "Qxugnles8ghE"
      },
      "execution_count": null,
      "outputs": []
    },
    {
      "cell_type": "code",
      "source": [
        "print(X)"
      ],
      "metadata": {
        "id": "1vGSZy5s8gfO",
        "colab": {
          "base_uri": "https://localhost:8080/"
        },
        "outputId": "7765d226-c4b9-492e-98ce-cb6d46b4dc6a"
      },
      "execution_count": null,
      "outputs": [
        {
          "output_type": "stream",
          "name": "stdout",
          "text": [
            "['Darrell Lucus House Dem Aide: We Didn’t Even See Comey’s Letter Until Jason Chaffetz Tweeted It'\n",
            " 'Daniel J. Flynn FLYNN: Hillary Clinton, Big Woman on Campus - Breitbart'\n",
            " 'Consortiumnews.com Why the Truth Might Get You Fired' ...\n",
            " 'Michael J. de la Merced and Rachel Abrams Macy’s Is Said to Receive Takeover Approach by Hudson’s Bay - The New York Times'\n",
            " 'Alex Ansary NATO, Russia To Hold Parallel Exercises In Balkans'\n",
            " 'David Swanson What Keeps the F-35 Alive']\n"
          ]
        }
      ]
    },
    {
      "cell_type": "code",
      "source": [
        "Y.shape"
      ],
      "metadata": {
        "colab": {
          "base_uri": "https://localhost:8080/"
        },
        "id": "e00h9Yot8gdA",
        "outputId": "9b8a8279-60f7-4f36-8fd2-2958f15fdadf"
      },
      "execution_count": null,
      "outputs": [
        {
          "output_type": "execute_result",
          "data": {
            "text/plain": [
              "(21017,)"
            ]
          },
          "metadata": {},
          "execution_count": 28
        }
      ]
    },
    {
      "cell_type": "markdown",
      "source": [
        "Tfidf vectorization is used to convert textual data to numerical data and gives information about repeated words."
      ],
      "metadata": {
        "id": "mfYrb25-NhR9"
      }
    },
    {
      "cell_type": "code",
      "source": [
        "vectorizer=TfidfVectorizer()\n",
        "\n",
        "x=vectorizer.fit_transform(news_dataset['content'].values.astype('U'))"
      ],
      "metadata": {
        "id": "RCLvEwmd8gbH"
      },
      "execution_count": null,
      "outputs": []
    },
    {
      "cell_type": "code",
      "source": [
        "print(x)"
      ],
      "metadata": {
        "id": "63OWqW5J8gZQ",
        "colab": {
          "base_uri": "https://localhost:8080/"
        },
        "outputId": "0ade154f-af11-4561-b549-b06e48db1ddc"
      },
      "execution_count": null,
      "outputs": [
        {
          "output_type": "stream",
          "name": "stdout",
          "text": [
            "  (0, 10559)\t0.15456503349281556\n",
            "  (0, 20794)\t0.3445449885768312\n",
            "  (0, 3597)\t0.3102521231504492\n",
            "  (0, 10657)\t0.20486244305718848\n",
            "  (0, 21125)\t0.2704139286679713\n",
            "  (0, 11689)\t0.24909461276764688\n",
            "  (0, 4202)\t0.20573113705596116\n",
            "  (0, 17883)\t0.22486001443095338\n",
            "  (0, 7062)\t0.22888319892396983\n",
            "  (0, 5739)\t0.24834268841464655\n",
            "  (0, 21779)\t0.18127733339408947\n",
            "  (0, 843)\t0.2640393954938585\n",
            "  (0, 5421)\t0.24834268841464655\n",
            "  (0, 9708)\t0.18400311328069546\n",
            "  (0, 12046)\t0.29911798240959736\n",
            "  (0, 5142)\t0.29911798240959736\n",
            "  (1, 2864)\t0.15224942524956667\n",
            "  (1, 3261)\t0.37382505938275823\n",
            "  (1, 14123)\t0.16116213846700383\n",
            "  (1, 22152)\t0.3008312784521116\n",
            "  (1, 2362)\t0.29248495907344796\n",
            "  (1, 4004)\t0.19493378874032827\n",
            "  (1, 9471)\t0.19257097099227352\n",
            "  (1, 7862)\t0.701103494453297\n",
            "  (1, 5105)\t0.26158349037712125\n",
            "  :\t:\n",
            "  (21014, 9743)\t0.20605112693414848\n",
            "  (21014, 12820)\t0.16516373953048652\n",
            "  (21014, 1152)\t0.09987154671038098\n",
            "  (21014, 20288)\t0.07811990631151589\n",
            "  (21014, 22376)\t0.07870356536060928\n",
            "  (21014, 13662)\t0.0763974995322003\n",
            "  (21014, 20324)\t0.09047102040742017\n",
            "  (21014, 20127)\t0.06463459685551035\n",
            "  (21015, 7155)\t0.4274142174289404\n",
            "  (21015, 1922)\t0.4402668841587786\n",
            "  (21015, 1233)\t0.29034393860096835\n",
            "  (21015, 942)\t0.26669841329674526\n",
            "  (21015, 9560)\t0.3345117682369711\n",
            "  (21015, 13523)\t0.30871926082915824\n",
            "  (21015, 14573)\t0.4274142174289404\n",
            "  (21015, 17373)\t0.22257330235809625\n",
            "  (21015, 20324)\t0.11310209540190015\n",
            "  (21015, 10055)\t0.1258369335775187\n",
            "  (21016, 248)\t0.4700761552122146\n",
            "  (21016, 974)\t0.4508928976810574\n",
            "  (21016, 19688)\t0.4432798859243281\n",
            "  (21016, 5169)\t0.2979657565945711\n",
            "  (21016, 11026)\t0.45367456636685544\n",
            "  (21016, 21911)\t0.2720113665711127\n",
            "  (21016, 20127)\t0.10311429600973139\n"
          ]
        }
      ]
    },
    {
      "cell_type": "code",
      "source": [
        "x_train , x_test,y_train,y_test = train_test_split(x,y, test_size=0.2, stratify =y ,random_state=2 )"
      ],
      "metadata": {
        "id": "ZN6KI4dc8gXO"
      },
      "execution_count": null,
      "outputs": []
    },
    {
      "cell_type": "code",
      "source": [
        "model = LogisticRegression()"
      ],
      "metadata": {
        "id": "nxCeS8Qe9BE6"
      },
      "execution_count": null,
      "outputs": []
    },
    {
      "cell_type": "code",
      "source": [
        "model.fit(x_train,y_train)"
      ],
      "metadata": {
        "id": "G9tY8WCf9BB0",
        "colab": {
          "base_uri": "https://localhost:8080/"
        },
        "outputId": "76219d91-bc4c-44ed-8353-6669a65002e5"
      },
      "execution_count": null,
      "outputs": [
        {
          "output_type": "execute_result",
          "data": {
            "text/plain": [
              "LogisticRegression()"
            ]
          },
          "metadata": {},
          "execution_count": 33
        }
      ]
    },
    {
      "cell_type": "code",
      "source": [
        "x_train_prediction=model.predict(x_train)\n",
        "training_data_accuracy=accuracy_score(x_train_prediction,y_train)"
      ],
      "metadata": {
        "id": "lNSU_bH69BAB"
      },
      "execution_count": null,
      "outputs": []
    },
    {
      "cell_type": "code",
      "source": [
        "print('Accuracy of training data :',training_data_accuracy)"
      ],
      "metadata": {
        "id": "tTX0dtF49A-C",
        "colab": {
          "base_uri": "https://localhost:8080/"
        },
        "outputId": "646b432f-ebaa-49a9-d34e-d9f68e007a24"
      },
      "execution_count": null,
      "outputs": [
        {
          "output_type": "stream",
          "name": "stdout",
          "text": [
            "Accuracy of training data : 0.9909593766728128\n"
          ]
        }
      ]
    },
    {
      "cell_type": "code",
      "source": [
        "x_test_prediction=model.predict(x_test)\n",
        "test_data_accuracy=accuracy_score(x_test_prediction,y_test)"
      ],
      "metadata": {
        "id": "6PpI5jXv9A8M"
      },
      "execution_count": null,
      "outputs": []
    },
    {
      "cell_type": "code",
      "source": [
        "print('Accuracy of testing data :',test_data_accuracy)"
      ],
      "metadata": {
        "id": "gsI-cczg9A6I",
        "colab": {
          "base_uri": "https://localhost:8080/"
        },
        "outputId": "6a23f7a6-36ad-4f65-9837-d892254e996b"
      },
      "execution_count": null,
      "outputs": [
        {
          "output_type": "stream",
          "name": "stdout",
          "text": [
            "Accuracy of testing data : 0.9831113225499524\n"
          ]
        }
      ]
    },
    {
      "cell_type": "code",
      "source": [
        "X_new=x_test[4]\n",
        "prediction = model.predict(X_new)\n",
        "print(prediction)\n",
        "if(prediction[0]==0):\n",
        "  print('The news is real')\n",
        "else:\n",
        "  print('The news is fake')"
      ],
      "metadata": {
        "colab": {
          "base_uri": "https://localhost:8080/"
        },
        "id": "u3l5c5lE9A4F",
        "outputId": "0b8affa7-b184-4c63-ddb3-5072f902b437"
      },
      "execution_count": null,
      "outputs": [
        {
          "output_type": "stream",
          "name": "stdout",
          "text": [
            "[1]\n",
            "The news is fake\n"
          ]
        }
      ]
    }
  ]
}